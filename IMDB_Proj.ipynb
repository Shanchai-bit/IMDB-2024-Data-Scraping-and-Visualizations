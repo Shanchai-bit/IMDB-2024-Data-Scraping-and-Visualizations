{
 "cells": [
  {
   "cell_type": "code",
   "execution_count": 4,
   "id": "a04d2c18-8bbf-4678-9373-d8e612acdf08",
   "metadata": {},
   "outputs": [
    {
     "name": "stdout",
     "output_type": "stream",
     "text": [
      "Requirement already satisfied: selenium in d:\\anaconda\\lib\\site-packages (4.27.1)\n",
      "Requirement already satisfied: pandas in d:\\anaconda\\lib\\site-packages (2.2.2)\n",
      "Requirement already satisfied: urllib3<3,>=1.26 in d:\\anaconda\\lib\\site-packages (from urllib3[socks]<3,>=1.26->selenium) (2.2.3)\n",
      "Requirement already satisfied: trio~=0.17 in d:\\anaconda\\lib\\site-packages (from selenium) (0.28.0)\n",
      "Requirement already satisfied: trio-websocket~=0.9 in d:\\anaconda\\lib\\site-packages (from selenium) (0.11.1)\n",
      "Requirement already satisfied: certifi>=2021.10.8 in d:\\anaconda\\lib\\site-packages (from selenium) (2024.8.30)\n",
      "Requirement already satisfied: typing_extensions~=4.9 in d:\\anaconda\\lib\\site-packages (from selenium) (4.11.0)\n",
      "Requirement already satisfied: websocket-client~=1.8 in d:\\anaconda\\lib\\site-packages (from selenium) (1.8.0)\n",
      "Requirement already satisfied: numpy>=1.26.0 in d:\\anaconda\\lib\\site-packages (from pandas) (1.26.4)\n",
      "Requirement already satisfied: python-dateutil>=2.8.2 in d:\\anaconda\\lib\\site-packages (from pandas) (2.9.0.post0)\n",
      "Requirement already satisfied: pytz>=2020.1 in d:\\anaconda\\lib\\site-packages (from pandas) (2024.1)\n",
      "Requirement already satisfied: tzdata>=2022.7 in d:\\anaconda\\lib\\site-packages (from pandas) (2023.3)\n",
      "Requirement already satisfied: six>=1.5 in d:\\anaconda\\lib\\site-packages (from python-dateutil>=2.8.2->pandas) (1.16.0)\n",
      "Requirement already satisfied: attrs>=23.2.0 in d:\\anaconda\\lib\\site-packages (from trio~=0.17->selenium) (24.3.0)\n",
      "Requirement already satisfied: sortedcontainers in d:\\anaconda\\lib\\site-packages (from trio~=0.17->selenium) (2.4.0)\n",
      "Requirement already satisfied: idna in d:\\anaconda\\lib\\site-packages (from trio~=0.17->selenium) (3.7)\n",
      "Requirement already satisfied: outcome in d:\\anaconda\\lib\\site-packages (from trio~=0.17->selenium) (1.3.0.post0)\n",
      "Requirement already satisfied: sniffio>=1.3.0 in d:\\anaconda\\lib\\site-packages (from trio~=0.17->selenium) (1.3.0)\n",
      "Requirement already satisfied: cffi>=1.14 in d:\\anaconda\\lib\\site-packages (from trio~=0.17->selenium) (1.17.1)\n",
      "Requirement already satisfied: wsproto>=0.14 in d:\\anaconda\\lib\\site-packages (from trio-websocket~=0.9->selenium) (1.2.0)\n",
      "Requirement already satisfied: pysocks!=1.5.7,<2.0,>=1.5.6 in d:\\anaconda\\lib\\site-packages (from urllib3[socks]<3,>=1.26->selenium) (1.7.1)\n",
      "Requirement already satisfied: pycparser in d:\\anaconda\\lib\\site-packages (from cffi>=1.14->trio~=0.17->selenium) (2.21)\n",
      "Requirement already satisfied: h11<1,>=0.9.0 in d:\\anaconda\\lib\\site-packages (from wsproto>=0.14->trio-websocket~=0.9->selenium) (0.14.0)\n",
      "Note: you may need to restart the kernel to use updated packages.\n"
     ]
    }
   ],
   "source": [
    "pip install selenium pandas "
   ]
  },
  {
   "cell_type": "code",
   "execution_count": 1,
   "id": "ef021e52-8924-453b-8bb7-dc59091ef995",
   "metadata": {},
   "outputs": [],
   "source": [
    "import os\n",
    "import pandas as pd\n",
    "from selenium import webdriver\n",
    "from selenium.webdriver.common.keys import Keys\n",
    "from selenium.webdriver.common.by import By\n",
    "from selenium.common.exceptions import TimeoutException, NoSuchElementException, ElementClickInterceptedException\n",
    "import time"
   ]
  },
  {
   "cell_type": "code",
   "execution_count": 3,
   "id": "d5a1c8d7-2644-444f-a294-8c262fdb780b",
   "metadata": {},
   "outputs": [],
   "source": [
    "# Initialize the WebDriver\n",
    "driver = webdriver.Chrome()"
   ]
  },
  {
   "cell_type": "code",
   "execution_count": 5,
   "id": "b90bd3b4-11ab-442c-a4f3-ad8e90f7c62c",
   "metadata": {},
   "outputs": [
    {
     "name": "stdout",
     "output_type": "stream",
     "text": [
      "Movie, News, Release date between 2024-01-01 and 2024-12-31 (Sorted by Popularity Ascending)\n",
      "No 'Read More' button found. All data loaded.\n",
      "Successfully retrieved all the data.\n"
     ]
    }
   ],
   "source": [
    "try:\n",
    "    # IMDb 2024 Movies URL\n",
    "    url = \"https://www.imdb.com/search/title/?title_type=feature&release_date=2024-01-01,2024-12-31&genres=news\"\n",
    "    driver.get(url)\n",
    "    driver.maximize_window()\n",
    "    time.sleep(2)\n",
    "    print(driver.title)\n",
    "    \n",
    "    while True:\n",
    "        try:\n",
    "            # Locate the \"Read More\" button\n",
    "            element = driver.find_element(\n",
    "                By.XPATH,\n",
    "                '//*[@id=\"__next\"]/main/div[2]/div[3]/section/section/div/section/section/div[2]/div/section/div[2]/div[2]/div[2]/div/span/button'\n",
    "            )\n",
    "\n",
    "            # Scroll the button into view\n",
    "            driver.execute_script(\"arguments[0].scrollIntoView({block: 'center'});\", element)\n",
    "            time.sleep(1)\n",
    "\n",
    "            # Click the button\n",
    "            element.click()\n",
    "            print(\"Clicked 'Read More' button.\")\n",
    "            time.sleep(1)  # Wait for new content to load\n",
    "\n",
    "        except NoSuchElementException:\n",
    "            print(\"No 'Read More' button found. All data loaded.\")\n",
    "            break\n",
    "\n",
    "        except ElementClickInterceptedException:\n",
    "            print(\"Button is blocked by another element. Retrying...\")\n",
    "            time.sleep(2)\n",
    "\n",
    "        except TimeoutException:\n",
    "            print(\"Operation timed out. Retrying...\")\n",
    "            time.sleep(2)\n",
    "\n",
    "        except Exception as e:\n",
    "            print(f\"Unexpected error: {e}\")\n",
    "            break\n",
    "\n",
    "finally:\n",
    "    print(\"Successfully retrieved all the data.\")\n"
   ]
  },
  {
   "cell_type": "code",
   "execution_count": 21,
   "id": "9fc2b2dc-d763-41c4-ac3b-da039f774020",
   "metadata": {},
   "outputs": [
    {
     "name": "stdout",
     "output_type": "stream",
     "text": [
      "{'News': [{'Movie Name': 'The Fall of 2008', 'Rating': 'N/A', 'Votes': 'N/A', 'Duration': '1h 1m', 'Genre': 'News'}]}\n",
      "{'News': [{'Movie Name': 'The Fall of 2008', 'Rating': 'N/A', 'Votes': 'N/A', 'Duration': '1h 1m', 'Genre': 'News'}, {'Movie Name': 'Every Christopher Nolan Movie Ranked', 'Rating': '8.6', 'Votes': ' 17', 'Duration': '59m', 'Genre': 'News'}]}\n",
      "{'News': [{'Movie Name': 'The Fall of 2008', 'Rating': 'N/A', 'Votes': 'N/A', 'Duration': '1h 1m', 'Genre': 'News'}, {'Movie Name': 'Every Christopher Nolan Movie Ranked', 'Rating': '8.6', 'Votes': ' 17', 'Duration': '59m', 'Genre': 'News'}, {'Movie Name': 'The Turning Point: XCLD: The Story of Cancel Culture', 'Rating': '5.3', 'Votes': ' 30', 'Duration': '44m', 'Genre': 'News'}]}\n",
      "{'News': [{'Movie Name': 'The Fall of 2008', 'Rating': 'N/A', 'Votes': 'N/A', 'Duration': '1h 1m', 'Genre': 'News'}, {'Movie Name': 'Every Christopher Nolan Movie Ranked', 'Rating': '8.6', 'Votes': ' 17', 'Duration': '59m', 'Genre': 'News'}, {'Movie Name': 'The Turning Point: XCLD: The Story of Cancel Culture', 'Rating': '5.3', 'Votes': ' 30', 'Duration': '44m', 'Genre': 'News'}, {'Movie Name': 'Minnesota v. We the People', 'Rating': 'N/A', 'Votes': 'N/A', 'Duration': '55m', 'Genre': 'News'}]}\n",
      "{'News': [{'Movie Name': 'The Fall of 2008', 'Rating': 'N/A', 'Votes': 'N/A', 'Duration': '1h 1m', 'Genre': 'News'}, {'Movie Name': 'Every Christopher Nolan Movie Ranked', 'Rating': '8.6', 'Votes': ' 17', 'Duration': '59m', 'Genre': 'News'}, {'Movie Name': 'The Turning Point: XCLD: The Story of Cancel Culture', 'Rating': '5.3', 'Votes': ' 30', 'Duration': '44m', 'Genre': 'News'}, {'Movie Name': 'Minnesota v. We the People', 'Rating': 'N/A', 'Votes': 'N/A', 'Duration': '55m', 'Genre': 'News'}, {'Movie Name': 'The Truth: The Journey Within', 'Rating': '7.2', 'Votes': ' 8', 'Duration': '1h 31m', 'Genre': 'News'}]}\n",
      "{'News': [{'Movie Name': 'The Fall of 2008', 'Rating': 'N/A', 'Votes': 'N/A', 'Duration': '1h 1m', 'Genre': 'News'}, {'Movie Name': 'Every Christopher Nolan Movie Ranked', 'Rating': '8.6', 'Votes': ' 17', 'Duration': '59m', 'Genre': 'News'}, {'Movie Name': 'The Turning Point: XCLD: The Story of Cancel Culture', 'Rating': '5.3', 'Votes': ' 30', 'Duration': '44m', 'Genre': 'News'}, {'Movie Name': 'Minnesota v. We the People', 'Rating': 'N/A', 'Votes': 'N/A', 'Duration': '55m', 'Genre': 'News'}, {'Movie Name': 'The Truth: The Journey Within', 'Rating': '7.2', 'Votes': ' 8', 'Duration': '1h 31m', 'Genre': 'News'}, {'Movie Name': '#Models Wanted', 'Rating': '8.7', 'Votes': ' 31', 'Duration': 'N/A', 'Genre': 'News'}]}\n",
      "{'News': [{'Movie Name': 'The Fall of 2008', 'Rating': 'N/A', 'Votes': 'N/A', 'Duration': '1h 1m', 'Genre': 'News'}, {'Movie Name': 'Every Christopher Nolan Movie Ranked', 'Rating': '8.6', 'Votes': ' 17', 'Duration': '59m', 'Genre': 'News'}, {'Movie Name': 'The Turning Point: XCLD: The Story of Cancel Culture', 'Rating': '5.3', 'Votes': ' 30', 'Duration': '44m', 'Genre': 'News'}, {'Movie Name': 'Minnesota v. We the People', 'Rating': 'N/A', 'Votes': 'N/A', 'Duration': '55m', 'Genre': 'News'}, {'Movie Name': 'The Truth: The Journey Within', 'Rating': '7.2', 'Votes': ' 8', 'Duration': '1h 31m', 'Genre': 'News'}, {'Movie Name': '#Models Wanted', 'Rating': '8.7', 'Votes': ' 31', 'Duration': 'N/A', 'Genre': 'News'}, {'Movie Name': 'El Genocidio Silencioso', 'Rating': 'N/A', 'Votes': 'N/A', 'Duration': '1h 22m', 'Genre': 'News'}]}\n",
      "{'News': [{'Movie Name': 'The Fall of 2008', 'Rating': 'N/A', 'Votes': 'N/A', 'Duration': '1h 1m', 'Genre': 'News'}, {'Movie Name': 'Every Christopher Nolan Movie Ranked', 'Rating': '8.6', 'Votes': ' 17', 'Duration': '59m', 'Genre': 'News'}, {'Movie Name': 'The Turning Point: XCLD: The Story of Cancel Culture', 'Rating': '5.3', 'Votes': ' 30', 'Duration': '44m', 'Genre': 'News'}, {'Movie Name': 'Minnesota v. We the People', 'Rating': 'N/A', 'Votes': 'N/A', 'Duration': '55m', 'Genre': 'News'}, {'Movie Name': 'The Truth: The Journey Within', 'Rating': '7.2', 'Votes': ' 8', 'Duration': '1h 31m', 'Genre': 'News'}, {'Movie Name': '#Models Wanted', 'Rating': '8.7', 'Votes': ' 31', 'Duration': 'N/A', 'Genre': 'News'}, {'Movie Name': 'El Genocidio Silencioso', 'Rating': 'N/A', 'Votes': 'N/A', 'Duration': '1h 22m', 'Genre': 'News'}, {'Movie Name': 'Toque de Queda', 'Rating': 'N/A', 'Votes': 'N/A', 'Duration': '2h', 'Genre': 'News'}]}\n",
      "{'News': [{'Movie Name': 'The Fall of 2008', 'Rating': 'N/A', 'Votes': 'N/A', 'Duration': '1h 1m', 'Genre': 'News'}, {'Movie Name': 'Every Christopher Nolan Movie Ranked', 'Rating': '8.6', 'Votes': ' 17', 'Duration': '59m', 'Genre': 'News'}, {'Movie Name': 'The Turning Point: XCLD: The Story of Cancel Culture', 'Rating': '5.3', 'Votes': ' 30', 'Duration': '44m', 'Genre': 'News'}, {'Movie Name': 'Minnesota v. We the People', 'Rating': 'N/A', 'Votes': 'N/A', 'Duration': '55m', 'Genre': 'News'}, {'Movie Name': 'The Truth: The Journey Within', 'Rating': '7.2', 'Votes': ' 8', 'Duration': '1h 31m', 'Genre': 'News'}, {'Movie Name': '#Models Wanted', 'Rating': '8.7', 'Votes': ' 31', 'Duration': 'N/A', 'Genre': 'News'}, {'Movie Name': 'El Genocidio Silencioso', 'Rating': 'N/A', 'Votes': 'N/A', 'Duration': '1h 22m', 'Genre': 'News'}, {'Movie Name': 'Toque de Queda', 'Rating': 'N/A', 'Votes': 'N/A', 'Duration': '2h', 'Genre': 'News'}, {'Movie Name': 'Drachten Journaals', 'Rating': 'N/A', 'Votes': 'N/A', 'Duration': '51m', 'Genre': 'News'}]}\n",
      "{'News': [{'Movie Name': 'The Fall of 2008', 'Rating': 'N/A', 'Votes': 'N/A', 'Duration': '1h 1m', 'Genre': 'News'}, {'Movie Name': 'Every Christopher Nolan Movie Ranked', 'Rating': '8.6', 'Votes': ' 17', 'Duration': '59m', 'Genre': 'News'}, {'Movie Name': 'The Turning Point: XCLD: The Story of Cancel Culture', 'Rating': '5.3', 'Votes': ' 30', 'Duration': '44m', 'Genre': 'News'}, {'Movie Name': 'Minnesota v. We the People', 'Rating': 'N/A', 'Votes': 'N/A', 'Duration': '55m', 'Genre': 'News'}, {'Movie Name': 'The Truth: The Journey Within', 'Rating': '7.2', 'Votes': ' 8', 'Duration': '1h 31m', 'Genre': 'News'}, {'Movie Name': '#Models Wanted', 'Rating': '8.7', 'Votes': ' 31', 'Duration': 'N/A', 'Genre': 'News'}, {'Movie Name': 'El Genocidio Silencioso', 'Rating': 'N/A', 'Votes': 'N/A', 'Duration': '1h 22m', 'Genre': 'News'}, {'Movie Name': 'Toque de Queda', 'Rating': 'N/A', 'Votes': 'N/A', 'Duration': '2h', 'Genre': 'News'}, {'Movie Name': 'Drachten Journaals', 'Rating': 'N/A', 'Votes': 'N/A', 'Duration': '51m', 'Genre': 'News'}, {'Movie Name': 'UK General Election 2024', 'Rating': 'N/A', 'Votes': 'N/A', 'Duration': '3h', 'Genre': 'News'}]}\n",
      "{'News': [{'Movie Name': 'The Fall of 2008', 'Rating': 'N/A', 'Votes': 'N/A', 'Duration': '1h 1m', 'Genre': 'News'}, {'Movie Name': 'Every Christopher Nolan Movie Ranked', 'Rating': '8.6', 'Votes': ' 17', 'Duration': '59m', 'Genre': 'News'}, {'Movie Name': 'The Turning Point: XCLD: The Story of Cancel Culture', 'Rating': '5.3', 'Votes': ' 30', 'Duration': '44m', 'Genre': 'News'}, {'Movie Name': 'Minnesota v. We the People', 'Rating': 'N/A', 'Votes': 'N/A', 'Duration': '55m', 'Genre': 'News'}, {'Movie Name': 'The Truth: The Journey Within', 'Rating': '7.2', 'Votes': ' 8', 'Duration': '1h 31m', 'Genre': 'News'}, {'Movie Name': '#Models Wanted', 'Rating': '8.7', 'Votes': ' 31', 'Duration': 'N/A', 'Genre': 'News'}, {'Movie Name': 'El Genocidio Silencioso', 'Rating': 'N/A', 'Votes': 'N/A', 'Duration': '1h 22m', 'Genre': 'News'}, {'Movie Name': 'Toque de Queda', 'Rating': 'N/A', 'Votes': 'N/A', 'Duration': '2h', 'Genre': 'News'}, {'Movie Name': 'Drachten Journaals', 'Rating': 'N/A', 'Votes': 'N/A', 'Duration': '51m', 'Genre': 'News'}, {'Movie Name': 'UK General Election 2024', 'Rating': 'N/A', 'Votes': 'N/A', 'Duration': '3h', 'Genre': 'News'}, {'Movie Name': \"Les ombres de l'inconnue\", 'Rating': 'N/A', 'Votes': 'N/A', 'Duration': '12m', 'Genre': 'News'}]}\n"
     ]
    }
   ],
   "source": [
    "try:\n",
    "    # Locate all movie items\n",
    "    movies = driver.find_elements(By.XPATH,'//*[@id=\"__next\"]/main/div[2]/div[3]/section/section/div/section/section/div[2]/div/section/div[2]/div[2]/ul/li')\n",
    "    # Initialize a dictionary to store data by genre\n",
    "    genre_data = {}\n",
    "    \n",
    "    # Extract details for each movie\n",
    "    for movie in movies:\n",
    "        try:\n",
    "            # Movie Name\n",
    "            name = movie.find_element(By.CSS_SELECTOR,'h3[class=\"ipc-title__text\"]').text.split(\". \", 1)[1]\n",
    "\n",
    "            # Genre\n",
    "            genre = movie.find_element(By.XPATH, '//*[@id=\"__next\"]/main/div[2]/div[3]/section/section/div/section/section/div[2]/div/section/div[1]/div/div/div[2]/button[3]/span').text.strip()\n",
    "\n",
    "            # Ratings\n",
    "            try:\n",
    "                rating = movie.find_element(By.CSS_SELECTOR, \"span[class='ipc-rating-star--rating']\").text.strip()\n",
    "            except:\n",
    "                rating = \"N/A\"\n",
    "\n",
    "            # Voting Counts\n",
    "            try:\n",
    "                votes = movie.find_element(By.CSS_SELECTOR, \"span[class='ipc-rating-star--voteCount']\").text.replace(\"(\", \"\").replace(\")\", \"\")\n",
    "            except:\n",
    "                votes = \"N/A\"\n",
    "\n",
    "            # Duration\n",
    "            try:\n",
    "                duration = movie.find_element(By.XPATH, './div/div/div/div[1]/div[2]/div[2]/span[2]').text\n",
    "            except:\n",
    "                duration = \"N/A\"\n",
    "\n",
    "            # Split genres and store data in a dictionary\n",
    "            for g in genre.split(\", \"):\n",
    "                if g not in genre_data:\n",
    "                    genre_data[g] = []\n",
    "                genre_data[g].append({\"Movie Name\": name, \"Rating\": rating, \"Votes\": votes, \"Duration\": duration, \"Genre\": genre})\n",
    "                print(genre_data)\n",
    "        except Exception as e:\n",
    "            print(f\"Error processing movie: {e}\")\n",
    "except Exception as e:\n",
    "    print(f\"Error retrieving movie list: {e}\")\n",
    "    "
   ]
  },
  {
   "cell_type": "code",
   "execution_count": 232,
   "id": "c7643f5d-a64c-4a16-8048-70f3b8dcf126",
   "metadata": {},
   "outputs": [],
   "source": [
    "# Close the WebDriver\n",
    "driver.quit()"
   ]
  },
  {
   "cell_type": "code",
   "execution_count": 23,
   "id": "660f4b57-0c8c-4726-b01b-e94249bee2c8",
   "metadata": {},
   "outputs": [
    {
     "name": "stdout",
     "output_type": "stream",
     "text": [
      "Saved data for genre 'News' to 'IMDB_2024_Genres\\News.csv'\n"
     ]
    }
   ],
   "source": [
    "# Save data to CSV files\n",
    "output_dir = \"IMDB_2024_Genres\"\n",
    "os.makedirs(output_dir, exist_ok=True)\n",
    "\n",
    "for genre, movies in genre_data.items():\n",
    "    df = pd.DataFrame(movies)\n",
    "    file_name = os.path.join(output_dir, f\"{genre}.csv\")\n",
    "    df.to_csv(file_name, index=False)\n",
    "    print(f\"Saved data for genre '{genre}' to '{file_name}'\")\n",
    "   "
   ]
  },
  {
   "cell_type": "code",
   "execution_count": null,
   "id": "328b191e-99f7-4c89-b5ca-e44639075b15",
   "metadata": {},
   "outputs": [],
   "source": []
  }
 ],
 "metadata": {
  "kernelspec": {
   "display_name": "Python 3 (ipykernel)",
   "language": "python",
   "name": "python3"
  },
  "language_info": {
   "codemirror_mode": {
    "name": "ipython",
    "version": 3
   },
   "file_extension": ".py",
   "mimetype": "text/x-python",
   "name": "python",
   "nbconvert_exporter": "python",
   "pygments_lexer": "ipython3",
   "version": "3.12.7"
  }
 },
 "nbformat": 4,
 "nbformat_minor": 5
}
